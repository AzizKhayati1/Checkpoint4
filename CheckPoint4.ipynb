{
 "cells": [
  {
   "cell_type": "code",
   "execution_count": 1,
   "id": "0f00207b-4dae-4474-b65a-d97252e8753c",
   "metadata": {},
   "outputs": [
    {
     "data": {
      "text/plain": [
       "3"
      ]
     },
     "execution_count": 1,
     "metadata": {},
     "output_type": "execute_result"
    }
   ],
   "source": [
    "#question1\n",
    "def maximum(a,b,c) :\n",
    "    result = max(a,b,c)\n",
    "    return(result)\n",
    "maximum(1,2,3)\n",
    "\n",
    "\n"
   ]
  },
  {
   "cell_type": "code",
   "execution_count": 2,
   "id": "338b950a-e07f-4a2e-b013-f2ed2af51250",
   "metadata": {},
   "outputs": [
    {
     "data": {
      "text/plain": [
       "(13, 7)"
      ]
     },
     "execution_count": 2,
     "metadata": {},
     "output_type": "execute_result"
    }
   ],
   "source": [
    "#Question2\n",
    "def countsub(a,b):\n",
    "    count = a+b \n",
    "    sub = a-b \n",
    "    return(count,sub)\n",
    "countsub(10,3)"
   ]
  },
  {
   "cell_type": "code",
   "execution_count": 45,
   "id": "48ac7ef0-92fc-418b-9b4b-8e30612a6e99",
   "metadata": {},
   "outputs": [
    {
     "data": {
      "text/plain": [
       "3"
      ]
     },
     "execution_count": 45,
     "metadata": {},
     "output_type": "execute_result"
    }
   ],
   "source": [
    "def summ(liste) :\n",
    "    sum=0\n",
    "    for i in liste :\n",
    "         sum=sum + i \n",
    "    return(sum)\n",
    "\n",
    "def multip(liste): \n",
    "    mult=1 \n",
    "    for i in liste :\n",
    "        mult *= i  \n",
    "    return(mult)\n",
    "def even(liste) :\n",
    "    even = [] \n",
    "    for i in range(len(liste)) :\n",
    "        if i % 2 == 0 :\n",
    "            even.append(liste[i])\n",
    "    return(even)\n",
    "def odd(liste):  \n",
    "    odd = []\n",
    "    for i in range(len(liste)+1) : \n",
    "        if i % 2 == 1 :\n",
    "            odd.append(liste[i])\n",
    "    return(odd)\n",
    "odd([1,3,2,7])\n",
    "multip(odd([1,3,2,7]))\n",
    "sum([1,3,2,7])\n",
    "even(([1,3,2,7]))\n",
    "sum(even([1,3,2,7]))\n",
    "#finallyworks:)\n"
   ]
  },
  {
   "cell_type": "code",
   "execution_count": 44,
   "id": "f4bf6406-3c6d-468e-b89a-1435d8e801ae",
   "metadata": {},
   "outputs": [
    {
     "name": "stdin",
     "output_type": "stream",
     "text": [
      "enter the string:  green-red-yellow-black-white\n"
     ]
    },
    {
     "name": "stdout",
     "output_type": "stream",
     "text": [
      "black-green-red-white-yellow\n"
     ]
    }
   ],
   "source": [
    "#question4\n",
    "sentence=input(\"enter the sentence: \") \n",
    "sequence=sentence.split('-') \n",
    "sequence.sort() \n",
    "print('-'.join(sequence)) "
   ]
  },
  {
   "cell_type": "code",
   "execution_count": 3,
   "id": "55b106ac-8897-4fba-b1bc-115944ea80ea",
   "metadata": {
    "tags": []
   },
   "outputs": [
    {
     "name": "stdin",
     "output_type": "stream",
     "text": [
      "write D 100,150,180\n"
     ]
    },
    {
     "data": {
      "text/plain": [
       "[18, 22, 24]"
      ]
     },
     "execution_count": 3,
     "metadata": {},
     "output_type": "execute_result"
    }
   ],
   "source": [
    "#Question5 \n",
    "import math \n",
    "numbers = input(\"write D\" )\n",
    "numbers = numbers.split(\",\")\n",
    "def squareroot(liste) :\n",
    "    finallist = [] \n",
    "    for D in numbers : \n",
    "        Q = round(math.sqrt(2 * 50 * int(D) / 30))\n",
    "        finallist.append(Q)\n",
    "    return(finallist)\n",
    "\n",
    "squareroot([100,150,180])\n",
    "    \n"
   ]
  },
  {
   "cell_type": "code",
   "execution_count": null,
   "id": "5eef2348-8553-4dbf-acab-f2789de0ff59",
   "metadata": {},
   "outputs": [],
   "source": []
  }
 ],
 "metadata": {
  "kernelspec": {
   "display_name": "Python 3",
   "language": "python",
   "name": "python3"
  },
  "language_info": {
   "codemirror_mode": {
    "name": "ipython",
    "version": 3
   },
   "file_extension": ".py",
   "mimetype": "text/x-python",
   "name": "python",
   "nbconvert_exporter": "python",
   "pygments_lexer": "ipython3",
   "version": "3.8.8"
  }
 },
 "nbformat": 4,
 "nbformat_minor": 5
}
